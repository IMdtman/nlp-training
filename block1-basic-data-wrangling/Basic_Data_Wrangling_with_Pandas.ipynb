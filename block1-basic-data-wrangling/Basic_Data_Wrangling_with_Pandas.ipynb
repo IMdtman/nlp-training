{
  "cells": [
    {
      "cell_type": "markdown",
      "metadata": {
        "id": "FMpyZVcZR3wy"
      },
      "source": [
        "# Welcome to this Notebook on Basic Data Wrangling with Pandas\n",
        "Pandas is an open-source Python library for data analysis and management. It provides data structures for table-like data as well as tools for data manipulation (e. g. filtering, merging, or sorting).\n",
        "\n",
        "In this notebook, you will learn some of the basics of Pandas. **Wherever you see ellipsis (...), you have to fill in something.**\n",
        "\n",
        "A prerequisite for using this notebook is basic knowledge of Python programming.\n",
        "\n",
        "#### References\n",
        "The Pandas documentation (https://pandas.pydata.org/docs/) provides rich information should you get stuck.\n",
        "\n",
        "Datasets based on https://paperswithcode.com/dataset/kinnews-and-kirnews."
      ]
    },
    {
      "cell_type": "markdown",
      "metadata": {},
      "source": [
        "## Imports"
      ]
    },
    {
      "cell_type": "code",
      "execution_count": null,
      "metadata": {},
      "outputs": [],
      "source": [
        "# Execute this cell to import Pandas\n",
        "import pandas as pd"
      ]
    },
    {
      "cell_type": "markdown",
      "metadata": {
        "id": "pevMldBDSWwr"
      },
      "source": [
        "## Pandas DataFrames and Series"
      ]
    },
    {
      "cell_type": "code",
      "execution_count": null,
      "metadata": {
        "colab": {
          "base_uri": "https://localhost:8080/",
          "height": 390
        },
        "id": "gaPn1FqlSWhV",
        "outputId": "810a0d3b-f1f3-4629-fd6f-94c8cffeb572"
      },
      "outputs": [],
      "source": [
        "# Create a Series (pd.Series) from \"mylist\" (fill the list with whatever values you like)\n",
        "mylist = ...\n",
        "\n",
        "myseries = ...\n",
        "\n",
        "myseries"
      ]
    },
    {
      "cell_type": "code",
      "execution_count": null,
      "metadata": {},
      "outputs": [],
      "source": [
        "# Create a DataFrame (pd.DataFrame) from the \"cities\" dictionary\n",
        "cities = {\n",
        "    'name': ['Kigali', 'Gisenyi', 'Huye', 'Gitarama', 'Musanze', 'Byumba', 'Cyangugu', 'Kibuye', 'Rwamagana', 'Kibungo'],\n",
        "    'population': [1132686, 136830, 89600, 87613, 86685, 70593, 63883, 48024, 47203, 46240]\n",
        "}\n",
        "\n",
        "cities_dataframe = ...\n",
        "\n",
        "cities_dataframe"
      ]
    },
    {
      "cell_type": "markdown",
      "metadata": {
        "id": "ToTPR-xjSIl6"
      },
      "source": [
        "## Importing data"
      ]
    },
    {
      "cell_type": "code",
      "execution_count": null,
      "metadata": {
        "colab": {
          "base_uri": "https://localhost:8080/",
          "height": 247
        },
        "id": "r_RTQCSKVdlc",
        "outputId": "a7dc58e9-7987-4345-e89f-fada55933fe0"
      },
      "outputs": [],
      "source": [
        "dataset_url = \"https://raw.githubusercontent.com/MBAZA-NLP/nlp-training/main/data/kinnews_0_500.csv\"\n",
        "\n",
        "# Read the CSV file from the URL and store it in the variable \"data\"\n",
        "data = ...\n",
        "\n",
        "data"
      ]
    },
    {
      "cell_type": "markdown",
      "metadata": {
        "id": "YXSUsmY8SMNH"
      },
      "source": [
        "## Understanding your data"
      ]
    },
    {
      "cell_type": "code",
      "execution_count": null,
      "metadata": {
        "id": "rxlKOfo9SSFv"
      },
      "outputs": [],
      "source": [
        "# Show the shape of the data\n",
        "..."
      ]
    },
    {
      "cell_type": "code",
      "execution_count": null,
      "metadata": {},
      "outputs": [],
      "source": [
        "# Show the first 17 rows of your data\n",
        "..."
      ]
    },
    {
      "cell_type": "markdown",
      "metadata": {
        "id": "IIw3uL5fSks0"
      },
      "source": [
        "## Filtering your data"
      ]
    },
    {
      "cell_type": "code",
      "execution_count": null,
      "metadata": {
        "id": "bszR8vXQSujn"
      },
      "outputs": [],
      "source": [
        "# Select only the \"title\" column\n",
        "..."
      ]
    },
    {
      "cell_type": "code",
      "execution_count": null,
      "metadata": {},
      "outputs": [],
      "source": [
        "# Select the \"title\" and \"label\" columns, in that order\n",
        "..."
      ]
    },
    {
      "cell_type": "code",
      "execution_count": null,
      "metadata": {},
      "outputs": [],
      "source": [
        "# Select rows 100-120 in the \"content\" column\n",
        "..."
      ]
    },
    {
      "cell_type": "markdown",
      "metadata": {
        "id": "UB0ihrHqSRas"
      },
      "source": [
        "## Combining data from multiple sources"
      ]
    },
    {
      "cell_type": "code",
      "execution_count": null,
      "metadata": {},
      "outputs": [],
      "source": [
        "# Read the other dataset\n",
        "dataset2_url = \"https://raw.githubusercontent.com/MBAZA-NLP/nlp-training/main/data/kinnews_1000_1500.csv\"\n",
        "\n",
        "data2 = ...\n",
        "\n",
        "data2"
      ]
    },
    {
      "cell_type": "code",
      "execution_count": null,
      "metadata": {
        "id": "qfy2ZLtwSkeB"
      },
      "outputs": [],
      "source": [
        "# Make (concatenate) one big DataFrame out of both datasets\n",
        "all_data = ...\n",
        "\n",
        "all_data"
      ]
    },
    {
      "cell_type": "code",
      "execution_count": null,
      "metadata": {},
      "outputs": [],
      "source": [
        "# Merge two tables using a common identifier\n",
        "\n",
        "# First, retrieve the CSV file containing the text labels (categories such as sports, tourism, ...)\n",
        "text_labels_file_url = \"https://raw.githubusercontent.com/MBAZA-NLP/nlp-training/main/data/labels.csv\"\n",
        "text_labels = ...\n",
        "\n",
        "# Now, merge\n",
        "full_data_with_labels = ...\n",
        "\n",
        "full_data_with_labels"
      ]
    },
    {
      "cell_type": "markdown",
      "metadata": {},
      "source": [
        "## Basic DataFrame operations"
      ]
    },
    {
      "cell_type": "code",
      "execution_count": null,
      "metadata": {},
      "outputs": [],
      "source": [
        "# Add a column indicating the language of the text\n",
        "..."
      ]
    },
    {
      "cell_type": "code",
      "execution_count": null,
      "metadata": {},
      "outputs": [],
      "source": [
        "# Delete the column you have just added\n",
        "..."
      ]
    },
    {
      "cell_type": "code",
      "execution_count": null,
      "metadata": {},
      "outputs": [],
      "source": [
        "# Compute the mean length of the title and content columns (in characters)\n",
        "title_mean_length = ...\n",
        "content_mean_length = ...\n",
        "\n",
        "print(f'The average length of the title in the data set is {title_mean_length} characters and of the content {content_mean_length} characters.')"
      ]
    },
    {
      "cell_type": "code",
      "execution_count": null,
      "metadata": {},
      "outputs": [],
      "source": [
        "# Select rows where the length of the title is below 25 characters\n",
        "..."
      ]
    },
    {
      "cell_type": "code",
      "execution_count": null,
      "metadata": {},
      "outputs": [],
      "source": [
        "# Remove duplicates (defined as rows with the same title) from the data and check how many rows remain \n",
        "..."
      ]
    },
    {
      "cell_type": "code",
      "execution_count": null,
      "metadata": {},
      "outputs": [],
      "source": [
        "# Sort the data according to the label\n",
        "..."
      ]
    },
    {
      "cell_type": "code",
      "execution_count": null,
      "metadata": {},
      "outputs": [],
      "source": [
        "# Sort the data according to the length of the content and assign the result to a new table 'sorted'\n",
        "sorted = ...\n",
        "\n",
        "# Add a column called \"content_length\" to see the number of characters in the content of each newspaper article (to confirm that the sorting was correct)\n",
        "...\n",
        "\n",
        "sorted"
      ]
    },
    {
      "cell_type": "markdown",
      "metadata": {},
      "source": [
        "## Optional (advanced)\n",
        "\n",
        "Create a table that summarizes the average number of words in the titles and contents of ``all_data``, *separately per label*. Add the label name to more easily understand which topic a label number refers to (e. g. 6 is history). Sort the table by the average number of words in the content.\n",
        "\n",
        "The result should look like this:\n",
        "\n",
        "|       |            | title_nr_words | content_nr_words |\n",
        "|-------|------------|----------------|------------------|\n",
        "| label | label_name |                |                  |\n",
        "| 6     | history    | 7.111111       | 352.777778       |\n",
        "| 13    | education  | 7.875000       | 335.000000       |\n",
        "| ...   | ...        | ...            | ...              |\n",
        "\n",
        "Note that doing this requires some functionality not mentioned in the training. Refer to the very well organized Pandas documentation: https://pandas.pydata.org/docs/. Tip: Have a look at the ``groupby()`` method."
      ]
    },
    {
      "cell_type": "code",
      "execution_count": null,
      "metadata": {},
      "outputs": [],
      "source": [
        "..."
      ]
    }
  ],
  "metadata": {
    "colab": {
      "name": "Basic Data Wrangling with Pandas",
      "provenance": []
    },
    "kernelspec": {
      "display_name": "Python 3.9.7 64-bit",
      "language": "python",
      "name": "python3"
    },
    "language_info": {
      "codemirror_mode": {
        "name": "ipython",
        "version": 3
      },
      "file_extension": ".py",
      "mimetype": "text/x-python",
      "name": "python",
      "nbconvert_exporter": "python",
      "pygments_lexer": "ipython3",
      "version": "3.9.7"
    },
    "vscode": {
      "interpreter": {
        "hash": "f08154012ddadd8e950e6e9e035c7a7b32c136e7647e9b7c77e02eb723a8bedb"
      }
    }
  },
  "nbformat": 4,
  "nbformat_minor": 0
}
