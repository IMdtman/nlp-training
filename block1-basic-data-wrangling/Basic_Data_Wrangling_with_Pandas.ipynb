{
  "cells": [
    {
      "cell_type": "markdown",
      "metadata": {
        "id": "FMpyZVcZR3wy"
      },
      "source": [
        "# Welcome to this Notebook on Basic Data Wrangling with Pandas\n",
        "Pandas is a Python \n",
        "\n",
        "Prerequisitites:\n",
        "- Basic knowledge of Python programming"
      ]
    },
    {
      "cell_type": "markdown",
      "metadata": {},
      "source": [
        "## Imports"
      ]
    },
    {
      "cell_type": "code",
      "execution_count": null,
      "metadata": {},
      "outputs": [],
      "source": [
        "import pandas as pd"
      ]
    },
    {
      "cell_type": "markdown",
      "metadata": {
        "id": "pevMldBDSWwr"
      },
      "source": [
        "## Pandas DataFrames and Series"
      ]
    },
    {
      "cell_type": "code",
      "execution_count": null,
      "metadata": {
        "colab": {
          "base_uri": "https://localhost:8080/",
          "height": 390
        },
        "id": "gaPn1FqlSWhV",
        "outputId": "810a0d3b-f1f3-4629-fd6f-94c8cffeb572"
      },
      "outputs": [],
      "source": [
        "# Create a Series (pd.Series) from \"mylist\" (fill the list with whatever values you like)\n",
        "mylist = ...\n",
        "\n",
        "myseries = ...\n",
        "\n",
        "myseries"
      ]
    },
    {
      "cell_type": "code",
      "execution_count": null,
      "metadata": {},
      "outputs": [],
      "source": [
        "# Create a DataFrame (pd.DataFrame) from the \"cities\" dictionary\n",
        "cities = {\n",
        "    'name': ['Kigali', 'Gisenyi', 'Butare', 'Gitarama', 'Musanze', 'Byumba', 'Cyangugu', 'Kibuye', 'Rwamagana', 'Kibungo'],\n",
        "    'population': [1132686, 136830, 89600, 87613, 86685, 70593, 63883, 48024, 47203, 46240]\n",
        "}\n",
        "\n",
        "cities_dataframe = ...\n",
        "\n",
        "cities_dataframe"
      ]
    },
    {
      "cell_type": "markdown",
      "metadata": {
        "id": "ToTPR-xjSIl6"
      },
      "source": [
        "## Importing data"
      ]
    },
    {
      "cell_type": "code",
      "execution_count": 41,
      "metadata": {
        "colab": {
          "base_uri": "https://localhost:8080/",
          "height": 247
        },
        "id": "r_RTQCSKVdlc",
        "outputId": "a7dc58e9-7987-4345-e89f-fada55933fe0"
      },
      "outputs": [
        {
          "data": {
            "text/html": [
              "<div>\n",
              "<style scoped>\n",
              "    .dataframe tbody tr th:only-of-type {\n",
              "        vertical-align: middle;\n",
              "    }\n",
              "\n",
              "    .dataframe tbody tr th {\n",
              "        vertical-align: top;\n",
              "    }\n",
              "\n",
              "    .dataframe thead th {\n",
              "        text-align: right;\n",
              "    }\n",
              "</style>\n",
              "<table border=\"1\" class=\"dataframe\">\n",
              "  <thead>\n",
              "    <tr style=\"text-align: right;\">\n",
              "      <th></th>\n",
              "      <th>label</th>\n",
              "      <th>title</th>\n",
              "      <th>content</th>\n",
              "    </tr>\n",
              "  </thead>\n",
              "  <tbody>\n",
              "    <tr>\n",
              "      <th>0</th>\n",
              "      <td>2</td>\n",
              "      <td>ikipe y’ u rwanda amavubi yahesheje u rwanda a...</td>\n",
              "      <td>uyu mukino wabaye itariki ukwakira gihe ikipe ...</td>\n",
              "    </tr>\n",
              "    <tr>\n",
              "      <th>1</th>\n",
              "      <td>11</td>\n",
              "      <td>urubyiruko itorero erc giterane cy’ububyutse k...</td>\n",
              "      <td>urubyiruko itorero ry’ivugabutumwa n’isanamiti...</td>\n",
              "    </tr>\n",
              "    <tr>\n",
              "      <th>2</th>\n",
              "      <td>4</td>\n",
              "      <td>rusizi bambaye udupfukamunwa n’ubwo bamwe bata...</td>\n",
              "      <td>kuri kabiri tariki gicurasi urasanga isura nsh...</td>\n",
              "    </tr>\n",
              "    <tr>\n",
              "      <th>3</th>\n",
              "      <td>5</td>\n",
              "      <td>abanyarwanda batatu begukanye ibihembo pam awards</td>\n",
              "      <td>buri mwaka ibihembo bihembo bihabwa abaririmby...</td>\n",
              "    </tr>\n",
              "    <tr>\n",
              "      <th>4</th>\n",
              "      <td>11</td>\n",
              "      <td>light family choir igiye gukora igitaramo cy’a...</td>\n",
              "      <td>korali light family ikorera umurimo w’ivugabut...</td>\n",
              "    </tr>\n",
              "    <tr>\n",
              "      <th>...</th>\n",
              "      <td>...</td>\n",
              "      <td>...</td>\n",
              "      <td>...</td>\n",
              "    </tr>\n",
              "    <tr>\n",
              "      <th>495</th>\n",
              "      <td>5</td>\n",
              "      <td>film ubuzima ni gatebe gato ifite inyigisho zu...</td>\n",
              "      <td>tina avuga yizeye filme abakunzi sinema nyarwa...</td>\n",
              "    </tr>\n",
              "    <tr>\n",
              "      <th>496</th>\n",
              "      <td>1</td>\n",
              "      <td>abanyarwanda batuye canada bibutse abazize jen...</td>\n",
              "      <td>igikorwa kwibuka kitabiriwe kandi n’abahagarar...</td>\n",
              "    </tr>\n",
              "    <tr>\n",
              "      <th>497</th>\n",
              "      <td>2</td>\n",
              "      <td>ku nshuro mbere u rwanda rubonye umusifuzi uru...</td>\n",
              "      <td>bwa mbere mateka y’u rwanda hagiye kuboneka um...</td>\n",
              "    </tr>\n",
              "    <tr>\n",
              "      <th>498</th>\n",
              "      <td>4</td>\n",
              "      <td>abaturage bakwiye kurushaho kubungabunga ubuzi...</td>\n",
              "      <td>mu bihe by’imvura aribyo tunarimo rwanda usang...</td>\n",
              "    </tr>\n",
              "    <tr>\n",
              "      <th>499</th>\n",
              "      <td>1</td>\n",
              "      <td>ndererehe yafatiwe cyuho atetse kanyanga</td>\n",
              "      <td>umunyamabanga nshingwabikorwa w’umurenge mayan...</td>\n",
              "    </tr>\n",
              "  </tbody>\n",
              "</table>\n",
              "<p>500 rows × 3 columns</p>\n",
              "</div>"
            ],
            "text/plain": [
              "     label                                              title  \\\n",
              "0        2  ikipe y’ u rwanda amavubi yahesheje u rwanda a...   \n",
              "1       11  urubyiruko itorero erc giterane cy’ububyutse k...   \n",
              "2        4  rusizi bambaye udupfukamunwa n’ubwo bamwe bata...   \n",
              "3        5  abanyarwanda batatu begukanye ibihembo pam awards   \n",
              "4       11  light family choir igiye gukora igitaramo cy’a...   \n",
              "..     ...                                                ...   \n",
              "495      5  film ubuzima ni gatebe gato ifite inyigisho zu...   \n",
              "496      1  abanyarwanda batuye canada bibutse abazize jen...   \n",
              "497      2  ku nshuro mbere u rwanda rubonye umusifuzi uru...   \n",
              "498      4  abaturage bakwiye kurushaho kubungabunga ubuzi...   \n",
              "499      1           ndererehe yafatiwe cyuho atetse kanyanga   \n",
              "\n",
              "                                               content  \n",
              "0    uyu mukino wabaye itariki ukwakira gihe ikipe ...  \n",
              "1    urubyiruko itorero ry’ivugabutumwa n’isanamiti...  \n",
              "2    kuri kabiri tariki gicurasi urasanga isura nsh...  \n",
              "3    buri mwaka ibihembo bihembo bihabwa abaririmby...  \n",
              "4    korali light family ikorera umurimo w’ivugabut...  \n",
              "..                                                 ...  \n",
              "495  tina avuga yizeye filme abakunzi sinema nyarwa...  \n",
              "496  igikorwa kwibuka kitabiriwe kandi n’abahagarar...  \n",
              "497  bwa mbere mateka y’u rwanda hagiye kuboneka um...  \n",
              "498  mu bihe by’imvura aribyo tunarimo rwanda usang...  \n",
              "499  umunyamabanga nshingwabikorwa w’umurenge mayan...  \n",
              "\n",
              "[500 rows x 3 columns]"
            ]
          },
          "execution_count": 41,
          "metadata": {},
          "output_type": "execute_result"
        }
      ],
      "source": [
        "dataset_url = \"\"\n",
        "\n",
        "# Read the CSV file from the URL and store it in the variable \"data\"\n",
        "data = pd.read_csv('kinnews_500.csv')\n",
        "\n",
        "data"
      ]
    },
    {
      "cell_type": "markdown",
      "metadata": {
        "id": "YXSUsmY8SMNH"
      },
      "source": [
        "## Understanding your data"
      ]
    },
    {
      "cell_type": "code",
      "execution_count": null,
      "metadata": {
        "id": "rxlKOfo9SSFv"
      },
      "outputs": [],
      "source": [
        "# Show the shape of the data"
      ]
    },
    {
      "cell_type": "code",
      "execution_count": null,
      "metadata": {},
      "outputs": [],
      "source": [
        "# Show the first 17 rows of your data"
      ]
    },
    {
      "cell_type": "markdown",
      "metadata": {
        "id": "IIw3uL5fSks0"
      },
      "source": [
        "## Filtering your data"
      ]
    },
    {
      "cell_type": "code",
      "execution_count": 18,
      "metadata": {
        "id": "bszR8vXQSujn"
      },
      "outputs": [
        {
          "data": {
            "text/plain": [
              "0       ikipe y’ u rwanda amavubi yahesheje u rwanda a...\n",
              "1       urubyiruko itorero erc giterane cy’ububyutse k...\n",
              "2       rusizi bambaye udupfukamunwa n’ubwo bamwe bata...\n",
              "3       abanyarwanda batatu begukanye ibihembo pam awards\n",
              "4       light family choir igiye gukora igitaramo cy’a...\n",
              "                              ...                        \n",
              "4249    volleyball apr bagabo rra bagore zegukanye car...\n",
              "4250    gisagara imbwa zizerera zikomeje kwibasira ama...\n",
              "4251    rdb yahembye batanu bagaragaje gutanga service...\n",
              "4252    reba ibyamamare bizwi cyane byanze ’kurushinga...\n",
              "4253    ngomaumuyobozi uzajya uha umuturage inka azajy...\n",
              "Name: title, Length: 4254, dtype: object"
            ]
          },
          "execution_count": 18,
          "metadata": {},
          "output_type": "execute_result"
        }
      ],
      "source": [
        "# Select only the \"title\" column\n"
      ]
    },
    {
      "cell_type": "code",
      "execution_count": 17,
      "metadata": {},
      "outputs": [
        {
          "data": {
            "text/plain": [
              "100    ku werurwe itsinda ry’abashakashatsi kaminuza ...\n",
              "101    perezida kagame yavuze impamvu yatumye abakuru...\n",
              "102    abayobozi repubulika demukarasi kongo batangaj...\n",
              "103    ingabo z’u rwanda ziri basirikare bahuriye mut...\n",
              "104    irushanwa as kigali pre-season tournament riso...\n",
              "105    umuyobozi w’umudugudu kageri kagari bukinanyan...\n",
              "106    ubwo karere burera batangizaga icyumweru kwibu...\n",
              "107    aba basore bakora akazi kubika gushyingura nez...\n",
              "108    itsinda ryo kaminuza yitwa monash swinburne rm...\n",
              "109    itangazo ryashyizwe ahagaragara minisiteri y’u...\n",
              "110    abakinnyi batanu batoranyijwe harimo yaya tour...\n",
              "111    ubwo bushakashatsi bwagaragaje inyoni bihugu z...\n",
              "112    bahati prince mwene nkundakozera michel kazege...\n",
              "113    igiciro lisansi cyari gisanzwe kiri mafaranga ...\n",
              "114    kimwe n’indi myaka yashize mwaka - wakozwemo i...\n",
              "115    mu biganiro yagiranye n’abanyamuhanga tariki n...\n",
              "116    havugimana jonas utuye mudugudu kabahona kagar...\n",
              "117    indirimbo bafatanije mpera z’umwaka danny nano...\n",
              "118    aganira n’ibiro by’itangazamakuru hirondelle e...\n",
              "119    abakinnyi team rwanda gihugu gabon bagowe n’ag...\n",
              "Name: content, dtype: object"
            ]
          },
          "execution_count": 17,
          "metadata": {},
          "output_type": "execute_result"
        }
      ],
      "source": [
        "# Select rows 100-120 in the \"content\" column\n"
      ]
    },
    {
      "cell_type": "markdown",
      "metadata": {
        "id": "UB0ihrHqSRas"
      },
      "source": [
        "## Combining data from multiple sources"
      ]
    },
    {
      "cell_type": "code",
      "execution_count": 55,
      "metadata": {
        "id": "qfy2ZLtwSkeB"
      },
      "outputs": [
        {
          "data": {
            "text/html": [
              "<div>\n",
              "<style scoped>\n",
              "    .dataframe tbody tr th:only-of-type {\n",
              "        vertical-align: middle;\n",
              "    }\n",
              "\n",
              "    .dataframe tbody tr th {\n",
              "        vertical-align: top;\n",
              "    }\n",
              "\n",
              "    .dataframe thead th {\n",
              "        text-align: right;\n",
              "    }\n",
              "</style>\n",
              "<table border=\"1\" class=\"dataframe\">\n",
              "  <thead>\n",
              "    <tr style=\"text-align: right;\">\n",
              "      <th></th>\n",
              "      <th>label</th>\n",
              "      <th>title</th>\n",
              "      <th>content</th>\n",
              "    </tr>\n",
              "  </thead>\n",
              "  <tbody>\n",
              "    <tr>\n",
              "      <th>0</th>\n",
              "      <td>2</td>\n",
              "      <td>ikipe y’ u rwanda amavubi yahesheje u rwanda a...</td>\n",
              "      <td>uyu mukino wabaye itariki ukwakira gihe ikipe ...</td>\n",
              "    </tr>\n",
              "    <tr>\n",
              "      <th>1</th>\n",
              "      <td>11</td>\n",
              "      <td>urubyiruko itorero erc giterane cy’ububyutse k...</td>\n",
              "      <td>urubyiruko itorero ry’ivugabutumwa n’isanamiti...</td>\n",
              "    </tr>\n",
              "    <tr>\n",
              "      <th>2</th>\n",
              "      <td>4</td>\n",
              "      <td>rusizi bambaye udupfukamunwa n’ubwo bamwe bata...</td>\n",
              "      <td>kuri kabiri tariki gicurasi urasanga isura nsh...</td>\n",
              "    </tr>\n",
              "    <tr>\n",
              "      <th>3</th>\n",
              "      <td>5</td>\n",
              "      <td>abanyarwanda batatu begukanye ibihembo pam awards</td>\n",
              "      <td>buri mwaka ibihembo bihembo bihabwa abaririmby...</td>\n",
              "    </tr>\n",
              "    <tr>\n",
              "      <th>4</th>\n",
              "      <td>11</td>\n",
              "      <td>light family choir igiye gukora igitaramo cy’a...</td>\n",
              "      <td>korali light family ikorera umurimo w’ivugabut...</td>\n",
              "    </tr>\n",
              "    <tr>\n",
              "      <th>...</th>\n",
              "      <td>...</td>\n",
              "      <td>...</td>\n",
              "      <td>...</td>\n",
              "    </tr>\n",
              "    <tr>\n",
              "      <th>495</th>\n",
              "      <td>1</td>\n",
              "      <td>ihohoterwa ntirikorerwa abagore gusa n’abagabo...</td>\n",
              "      <td>ibi bikaba biterwa hari abagore bamwe barumvis...</td>\n",
              "    </tr>\n",
              "    <tr>\n",
              "      <th>496</th>\n",
              "      <td>11</td>\n",
              "      <td>muco adonis wahimbye nzogera yavuze’ yashyize ...</td>\n",
              "      <td>ndategereje’ indirimbo muco adonis yakoze ugus...</td>\n",
              "    </tr>\n",
              "    <tr>\n",
              "      <th>497</th>\n",
              "      <td>1</td>\n",
              "      <td>abatangabuhamya rubanza munyenyezi bemerewe ku...</td>\n",
              "      <td>steven mcauliffe yatangajeko umwirondoro w’aba...</td>\n",
              "    </tr>\n",
              "    <tr>\n",
              "      <th>498</th>\n",
              "      <td>2</td>\n",
              "      <td>mayweather agiye guhura mcgregor mukino bise b...</td>\n",
              "      <td>ni umukino bamwe bise byendagusetsa ariko usho...</td>\n",
              "    </tr>\n",
              "    <tr>\n",
              "      <th>499</th>\n",
              "      <td>2</td>\n",
              "      <td>u rwanda rwatorewe kwakira imikino volleyball ...</td>\n",
              "      <td>icyemezo guha u rwanda gutegura kwakira mikino...</td>\n",
              "    </tr>\n",
              "  </tbody>\n",
              "</table>\n",
              "<p>1000 rows × 3 columns</p>\n",
              "</div>"
            ],
            "text/plain": [
              "     label                                              title  \\\n",
              "0        2  ikipe y’ u rwanda amavubi yahesheje u rwanda a...   \n",
              "1       11  urubyiruko itorero erc giterane cy’ububyutse k...   \n",
              "2        4  rusizi bambaye udupfukamunwa n’ubwo bamwe bata...   \n",
              "3        5  abanyarwanda batatu begukanye ibihembo pam awards   \n",
              "4       11  light family choir igiye gukora igitaramo cy’a...   \n",
              "..     ...                                                ...   \n",
              "495      1  ihohoterwa ntirikorerwa abagore gusa n’abagabo...   \n",
              "496     11  muco adonis wahimbye nzogera yavuze’ yashyize ...   \n",
              "497      1  abatangabuhamya rubanza munyenyezi bemerewe ku...   \n",
              "498      2  mayweather agiye guhura mcgregor mukino bise b...   \n",
              "499      2  u rwanda rwatorewe kwakira imikino volleyball ...   \n",
              "\n",
              "                                               content  \n",
              "0    uyu mukino wabaye itariki ukwakira gihe ikipe ...  \n",
              "1    urubyiruko itorero ry’ivugabutumwa n’isanamiti...  \n",
              "2    kuri kabiri tariki gicurasi urasanga isura nsh...  \n",
              "3    buri mwaka ibihembo bihembo bihabwa abaririmby...  \n",
              "4    korali light family ikorera umurimo w’ivugabut...  \n",
              "..                                                 ...  \n",
              "495  ibi bikaba biterwa hari abagore bamwe barumvis...  \n",
              "496  ndategereje’ indirimbo muco adonis yakoze ugus...  \n",
              "497  steven mcauliffe yatangajeko umwirondoro w’aba...  \n",
              "498  ni umukino bamwe bise byendagusetsa ariko usho...  \n",
              "499  icyemezo guha u rwanda gutegura kwakira mikino...  \n",
              "\n",
              "[1000 rows x 3 columns]"
            ]
          },
          "execution_count": 55,
          "metadata": {},
          "output_type": "execute_result"
        }
      ],
      "source": [
        "# Read the other dataset\n",
        "dataset2_url = \"\"\n",
        "\n",
        "data2 = ...\n",
        "\n",
        "# Merge (concatenate) both datasets together to form one big DataFrame\n",
        "merged_data = ...\n",
        "\n",
        "merged_data"
      ]
    },
    {
      "cell_type": "markdown",
      "metadata": {},
      "source": [
        "# Basic DataFrame operations"
      ]
    },
    {
      "cell_type": "code",
      "execution_count": 49,
      "metadata": {},
      "outputs": [
        {
          "data": {
            "text/html": [
              "<div>\n",
              "<style scoped>\n",
              "    .dataframe tbody tr th:only-of-type {\n",
              "        vertical-align: middle;\n",
              "    }\n",
              "\n",
              "    .dataframe tbody tr th {\n",
              "        vertical-align: top;\n",
              "    }\n",
              "\n",
              "    .dataframe thead th {\n",
              "        text-align: right;\n",
              "    }\n",
              "</style>\n",
              "<table border=\"1\" class=\"dataframe\">\n",
              "  <thead>\n",
              "    <tr style=\"text-align: right;\">\n",
              "      <th></th>\n",
              "      <th>label</th>\n",
              "      <th>title</th>\n",
              "      <th>content</th>\n",
              "    </tr>\n",
              "  </thead>\n",
              "  <tbody>\n",
              "    <tr>\n",
              "      <th>0</th>\n",
              "      <td>2</td>\n",
              "      <td>ikipe y’ u rwanda amavubi yahesheje u rwanda a...</td>\n",
              "      <td>uyu mukino wabaye itariki ukwakira gihe ikipe ...</td>\n",
              "    </tr>\n",
              "    <tr>\n",
              "      <th>1</th>\n",
              "      <td>11</td>\n",
              "      <td>urubyiruko itorero erc giterane cy’ububyutse k...</td>\n",
              "      <td>urubyiruko itorero ry’ivugabutumwa n’isanamiti...</td>\n",
              "    </tr>\n",
              "    <tr>\n",
              "      <th>2</th>\n",
              "      <td>4</td>\n",
              "      <td>rusizi bambaye udupfukamunwa n’ubwo bamwe bata...</td>\n",
              "      <td>kuri kabiri tariki gicurasi urasanga isura nsh...</td>\n",
              "    </tr>\n",
              "    <tr>\n",
              "      <th>3</th>\n",
              "      <td>5</td>\n",
              "      <td>abanyarwanda batatu begukanye ibihembo pam awards</td>\n",
              "      <td>buri mwaka ibihembo bihembo bihabwa abaririmby...</td>\n",
              "    </tr>\n",
              "    <tr>\n",
              "      <th>4</th>\n",
              "      <td>11</td>\n",
              "      <td>light family choir igiye gukora igitaramo cy’a...</td>\n",
              "      <td>korali light family ikorera umurimo w’ivugabut...</td>\n",
              "    </tr>\n",
              "    <tr>\n",
              "      <th>...</th>\n",
              "      <td>...</td>\n",
              "      <td>...</td>\n",
              "      <td>...</td>\n",
              "    </tr>\n",
              "    <tr>\n",
              "      <th>495</th>\n",
              "      <td>5</td>\n",
              "      <td>film ubuzima ni gatebe gato ifite inyigisho zu...</td>\n",
              "      <td>tina avuga yizeye filme abakunzi sinema nyarwa...</td>\n",
              "    </tr>\n",
              "    <tr>\n",
              "      <th>496</th>\n",
              "      <td>1</td>\n",
              "      <td>abanyarwanda batuye canada bibutse abazize jen...</td>\n",
              "      <td>igikorwa kwibuka kitabiriwe kandi n’abahagarar...</td>\n",
              "    </tr>\n",
              "    <tr>\n",
              "      <th>497</th>\n",
              "      <td>2</td>\n",
              "      <td>ku nshuro mbere u rwanda rubonye umusifuzi uru...</td>\n",
              "      <td>bwa mbere mateka y’u rwanda hagiye kuboneka um...</td>\n",
              "    </tr>\n",
              "    <tr>\n",
              "      <th>498</th>\n",
              "      <td>4</td>\n",
              "      <td>abaturage bakwiye kurushaho kubungabunga ubuzi...</td>\n",
              "      <td>mu bihe by’imvura aribyo tunarimo rwanda usang...</td>\n",
              "    </tr>\n",
              "    <tr>\n",
              "      <th>499</th>\n",
              "      <td>1</td>\n",
              "      <td>ndererehe yafatiwe cyuho atetse kanyanga</td>\n",
              "      <td>umunyamabanga nshingwabikorwa w’umurenge mayan...</td>\n",
              "    </tr>\n",
              "  </tbody>\n",
              "</table>\n",
              "<p>500 rows × 3 columns</p>\n",
              "</div>"
            ],
            "text/plain": [
              "     label                                              title  \\\n",
              "0        2  ikipe y’ u rwanda amavubi yahesheje u rwanda a...   \n",
              "1       11  urubyiruko itorero erc giterane cy’ububyutse k...   \n",
              "2        4  rusizi bambaye udupfukamunwa n’ubwo bamwe bata...   \n",
              "3        5  abanyarwanda batatu begukanye ibihembo pam awards   \n",
              "4       11  light family choir igiye gukora igitaramo cy’a...   \n",
              "..     ...                                                ...   \n",
              "495      5  film ubuzima ni gatebe gato ifite inyigisho zu...   \n",
              "496      1  abanyarwanda batuye canada bibutse abazize jen...   \n",
              "497      2  ku nshuro mbere u rwanda rubonye umusifuzi uru...   \n",
              "498      4  abaturage bakwiye kurushaho kubungabunga ubuzi...   \n",
              "499      1           ndererehe yafatiwe cyuho atetse kanyanga   \n",
              "\n",
              "                                               content  \n",
              "0    uyu mukino wabaye itariki ukwakira gihe ikipe ...  \n",
              "1    urubyiruko itorero ry’ivugabutumwa n’isanamiti...  \n",
              "2    kuri kabiri tariki gicurasi urasanga isura nsh...  \n",
              "3    buri mwaka ibihembo bihembo bihabwa abaririmby...  \n",
              "4    korali light family ikorera umurimo w’ivugabut...  \n",
              "..                                                 ...  \n",
              "495  tina avuga yizeye filme abakunzi sinema nyarwa...  \n",
              "496  igikorwa kwibuka kitabiriwe kandi n’abahagarar...  \n",
              "497  bwa mbere mateka y’u rwanda hagiye kuboneka um...  \n",
              "498  mu bihe by’imvura aribyo tunarimo rwanda usang...  \n",
              "499  umunyamabanga nshingwabikorwa w’umurenge mayan...  \n",
              "\n",
              "[500 rows x 3 columns]"
            ]
          },
          "execution_count": 49,
          "metadata": {},
          "output_type": "execute_result"
        }
      ],
      "source": [
        "# Add a column indicating the language of the text\n"
      ]
    },
    {
      "cell_type": "code",
      "execution_count": null,
      "metadata": {},
      "outputs": [],
      "source": [
        "# Delete the column you have just added"
      ]
    },
    {
      "cell_type": "code",
      "execution_count": 16,
      "metadata": {},
      "outputs": [
        {
          "name": "stdout",
          "output_type": "stream",
          "text": [
            "The average length of the title in the data set is 62.56158909261871 and of the content 1812.2604607428302.\n"
          ]
        }
      ],
      "source": [
        "# Compute the mean length of the title and content columns (in characters)\n",
        "title_mean_length = ...\n",
        "content_mean_length = ...\n",
        "\n",
        "print(f'The average length of the title in the data set is {title_mean_length} characters and of the content {content_mean_length} characters.')"
      ]
    },
    {
      "cell_type": "code",
      "execution_count": 43,
      "metadata": {},
      "outputs": [
        {
          "data": {
            "text/html": [
              "<div>\n",
              "<style scoped>\n",
              "    .dataframe tbody tr th:only-of-type {\n",
              "        vertical-align: middle;\n",
              "    }\n",
              "\n",
              "    .dataframe tbody tr th {\n",
              "        vertical-align: top;\n",
              "    }\n",
              "\n",
              "    .dataframe thead th {\n",
              "        text-align: right;\n",
              "    }\n",
              "</style>\n",
              "<table border=\"1\" class=\"dataframe\">\n",
              "  <thead>\n",
              "    <tr style=\"text-align: right;\">\n",
              "      <th></th>\n",
              "      <th>label</th>\n",
              "      <th>title</th>\n",
              "      <th>content</th>\n",
              "    </tr>\n",
              "  </thead>\n",
              "  <tbody>\n",
              "    <tr>\n",
              "      <th>134</th>\n",
              "      <td>5</td>\n",
              "      <td>pggss season yatangiye</td>\n",
              "      <td>abayobozi bralirwa n’aba east africa promotors...</td>\n",
              "    </tr>\n",
              "    <tr>\n",
              "      <th>186</th>\n",
              "      <td>1</td>\n",
              "      <td>akabaye icwende ntikoga</td>\n",
              "      <td>kuva nkundura y’amashyaka menshi u rwanda rwis...</td>\n",
              "    </tr>\n",
              "    <tr>\n",
              "      <th>305</th>\n",
              "      <td>5</td>\n",
              "      <td>pggss season yatangiye</td>\n",
              "      <td>abayobozi bralirwa n’aba east africa promotors...</td>\n",
              "    </tr>\n",
              "    <tr>\n",
              "      <th>335</th>\n",
              "      <td>4</td>\n",
              "      <td>ebola mugi goma</td>\n",
              "      <td>minisiteri y’ubuzima repubulika iharanira demu...</td>\n",
              "    </tr>\n",
              "  </tbody>\n",
              "</table>\n",
              "</div>"
            ],
            "text/plain": [
              "     label                    title  \\\n",
              "134      5   pggss season yatangiye   \n",
              "186      1  akabaye icwende ntikoga   \n",
              "305      5   pggss season yatangiye   \n",
              "335      4          ebola mugi goma   \n",
              "\n",
              "                                               content  \n",
              "134  abayobozi bralirwa n’aba east africa promotors...  \n",
              "186  kuva nkundura y’amashyaka menshi u rwanda rwis...  \n",
              "305  abayobozi bralirwa n’aba east africa promotors...  \n",
              "335  minisiteri y’ubuzima repubulika iharanira demu...  "
            ]
          },
          "execution_count": 43,
          "metadata": {},
          "output_type": "execute_result"
        }
      ],
      "source": [
        "# Select rows where the length of the title is below 25 characters\n"
      ]
    },
    {
      "cell_type": "code",
      "execution_count": 44,
      "metadata": {},
      "outputs": [
        {
          "data": {
            "text/html": [
              "<div>\n",
              "<style scoped>\n",
              "    .dataframe tbody tr th:only-of-type {\n",
              "        vertical-align: middle;\n",
              "    }\n",
              "\n",
              "    .dataframe tbody tr th {\n",
              "        vertical-align: top;\n",
              "    }\n",
              "\n",
              "    .dataframe thead th {\n",
              "        text-align: right;\n",
              "    }\n",
              "</style>\n",
              "<table border=\"1\" class=\"dataframe\">\n",
              "  <thead>\n",
              "    <tr style=\"text-align: right;\">\n",
              "      <th></th>\n",
              "      <th>label</th>\n",
              "      <th>title</th>\n",
              "      <th>content</th>\n",
              "    </tr>\n",
              "  </thead>\n",
              "  <tbody>\n",
              "    <tr>\n",
              "      <th>0</th>\n",
              "      <td>2</td>\n",
              "      <td>ikipe y’ u rwanda amavubi yahesheje u rwanda a...</td>\n",
              "      <td>uyu mukino wabaye itariki ukwakira gihe ikipe ...</td>\n",
              "    </tr>\n",
              "    <tr>\n",
              "      <th>1</th>\n",
              "      <td>11</td>\n",
              "      <td>urubyiruko itorero erc giterane cy’ububyutse k...</td>\n",
              "      <td>urubyiruko itorero ry’ivugabutumwa n’isanamiti...</td>\n",
              "    </tr>\n",
              "    <tr>\n",
              "      <th>2</th>\n",
              "      <td>4</td>\n",
              "      <td>rusizi bambaye udupfukamunwa n’ubwo bamwe bata...</td>\n",
              "      <td>kuri kabiri tariki gicurasi urasanga isura nsh...</td>\n",
              "    </tr>\n",
              "    <tr>\n",
              "      <th>3</th>\n",
              "      <td>5</td>\n",
              "      <td>abanyarwanda batatu begukanye ibihembo pam awards</td>\n",
              "      <td>buri mwaka ibihembo bihembo bihabwa abaririmby...</td>\n",
              "    </tr>\n",
              "    <tr>\n",
              "      <th>4</th>\n",
              "      <td>11</td>\n",
              "      <td>light family choir igiye gukora igitaramo cy’a...</td>\n",
              "      <td>korali light family ikorera umurimo w’ivugabut...</td>\n",
              "    </tr>\n",
              "    <tr>\n",
              "      <th>...</th>\n",
              "      <td>...</td>\n",
              "      <td>...</td>\n",
              "      <td>...</td>\n",
              "    </tr>\n",
              "    <tr>\n",
              "      <th>491</th>\n",
              "      <td>5</td>\n",
              "      <td>rtd brig gen yemerewe kwiyamamariza umwanya ku...</td>\n",
              "      <td>akanama gashinzwe amatora y’umuyobozi ferwafa ...</td>\n",
              "    </tr>\n",
              "    <tr>\n",
              "      <th>492</th>\n",
              "      <td>3</td>\n",
              "      <td>abakozi batsinda leta yabishyuye miliyoni itsi...</td>\n",
              "      <td>raporo komisiyo ishinzwe abakozi leta igaragaz...</td>\n",
              "    </tr>\n",
              "    <tr>\n",
              "      <th>493</th>\n",
              "      <td>4</td>\n",
              "      <td>abaturage bakwiye kurushaho kubungabunga ubuzi...</td>\n",
              "      <td>mu bihe by’imvura aribyo tunarimo rwanda usang...</td>\n",
              "    </tr>\n",
              "    <tr>\n",
              "      <th>495</th>\n",
              "      <td>5</td>\n",
              "      <td>film ubuzima ni gatebe gato ifite inyigisho zu...</td>\n",
              "      <td>tina avuga yizeye filme abakunzi sinema nyarwa...</td>\n",
              "    </tr>\n",
              "    <tr>\n",
              "      <th>497</th>\n",
              "      <td>2</td>\n",
              "      <td>ku nshuro mbere u rwanda rubonye umusifuzi uru...</td>\n",
              "      <td>bwa mbere mateka y’u rwanda hagiye kuboneka um...</td>\n",
              "    </tr>\n",
              "  </tbody>\n",
              "</table>\n",
              "<p>433 rows × 3 columns</p>\n",
              "</div>"
            ],
            "text/plain": [
              "     label                                              title  \\\n",
              "0        2  ikipe y’ u rwanda amavubi yahesheje u rwanda a...   \n",
              "1       11  urubyiruko itorero erc giterane cy’ububyutse k...   \n",
              "2        4  rusizi bambaye udupfukamunwa n’ubwo bamwe bata...   \n",
              "3        5  abanyarwanda batatu begukanye ibihembo pam awards   \n",
              "4       11  light family choir igiye gukora igitaramo cy’a...   \n",
              "..     ...                                                ...   \n",
              "491      5  rtd brig gen yemerewe kwiyamamariza umwanya ku...   \n",
              "492      3  abakozi batsinda leta yabishyuye miliyoni itsi...   \n",
              "493      4  abaturage bakwiye kurushaho kubungabunga ubuzi...   \n",
              "495      5  film ubuzima ni gatebe gato ifite inyigisho zu...   \n",
              "497      2  ku nshuro mbere u rwanda rubonye umusifuzi uru...   \n",
              "\n",
              "                                               content  \n",
              "0    uyu mukino wabaye itariki ukwakira gihe ikipe ...  \n",
              "1    urubyiruko itorero ry’ivugabutumwa n’isanamiti...  \n",
              "2    kuri kabiri tariki gicurasi urasanga isura nsh...  \n",
              "3    buri mwaka ibihembo bihembo bihabwa abaririmby...  \n",
              "4    korali light family ikorera umurimo w’ivugabut...  \n",
              "..                                                 ...  \n",
              "491  akanama gashinzwe amatora y’umuyobozi ferwafa ...  \n",
              "492  raporo komisiyo ishinzwe abakozi leta igaragaz...  \n",
              "493  mu bihe by’imvura aribyo tunarimo rwanda usang...  \n",
              "495  tina avuga yizeye filme abakunzi sinema nyarwa...  \n",
              "497  bwa mbere mateka y’u rwanda hagiye kuboneka um...  \n",
              "\n",
              "[433 rows x 3 columns]"
            ]
          },
          "execution_count": 44,
          "metadata": {},
          "output_type": "execute_result"
        }
      ],
      "source": [
        "# Remove duplicates (defined as rows with the same title) from the data and check how many rows remain \n"
      ]
    }
  ],
  "metadata": {
    "colab": {
      "name": "Basic Data Wrangling with Pandas",
      "provenance": []
    },
    "kernelspec": {
      "display_name": "Python 3.9.7 64-bit",
      "language": "python",
      "name": "python3"
    },
    "language_info": {
      "codemirror_mode": {
        "name": "ipython",
        "version": 3
      },
      "file_extension": ".py",
      "mimetype": "text/x-python",
      "name": "python",
      "nbconvert_exporter": "python",
      "pygments_lexer": "ipython3",
      "version": "3.9.7"
    },
    "vscode": {
      "interpreter": {
        "hash": "f08154012ddadd8e950e6e9e035c7a7b32c136e7647e9b7c77e02eb723a8bedb"
      }
    }
  },
  "nbformat": 4,
  "nbformat_minor": 0
}
