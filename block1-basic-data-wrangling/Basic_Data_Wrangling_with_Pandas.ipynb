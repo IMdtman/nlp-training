{
  "cells": [
    {
      "cell_type": "markdown",
      "metadata": {
        "id": "FMpyZVcZR3wy"
      },
      "source": [
        "# Welcome to this Notebook on Basic Data Wrangling with Pandas\n",
        "Pandas is an open-source Python library for data analysis and management. It provides data structures for table-like data as well as tools  for data manipulation (e. g. filtering, merging, or sorting).\n",
        "\n",
        "Please refer to the Pandas documentation (https://pandas.pydata.org/docs/).\n",
        "\n",
        "A prerequisite for using this notebook is basic knowledge of Python programming."
      ]
    },
    {
      "cell_type": "markdown",
      "metadata": {},
      "source": [
        "## Imports"
      ]
    },
    {
      "cell_type": "code",
      "execution_count": null,
      "metadata": {},
      "outputs": [],
      "source": [
        "# Execute this cell to import Pandas\n",
        "import pandas as pd"
      ]
    },
    {
      "cell_type": "markdown",
      "metadata": {
        "id": "pevMldBDSWwr"
      },
      "source": [
        "## Pandas DataFrames and Series"
      ]
    },
    {
      "cell_type": "code",
      "execution_count": null,
      "metadata": {
        "colab": {
          "base_uri": "https://localhost:8080/",
          "height": 390
        },
        "id": "gaPn1FqlSWhV",
        "outputId": "810a0d3b-f1f3-4629-fd6f-94c8cffeb572"
      },
      "outputs": [],
      "source": [
        "# Create a Series (pd.Series) from \"mylist\" (fill the list with whatever values you like)\n",
        "mylist = ...\n",
        "\n",
        "myseries = ...\n",
        "\n",
        "myseries"
      ]
    },
    {
      "cell_type": "code",
      "execution_count": null,
      "metadata": {},
      "outputs": [],
      "source": [
        "# Create a DataFrame (pd.DataFrame) from the \"cities\" dictionary\n",
        "cities = {\n",
        "    'name': ['Kigali', 'Gisenyi', 'Huye', 'Gitarama', 'Musanze', 'Byumba', 'Cyangugu', 'Kibuye', 'Rwamagana', 'Kibungo'],\n",
        "    'population': [1132686, 136830, 89600, 87613, 86685, 70593, 63883, 48024, 47203, 46240]\n",
        "}\n",
        "\n",
        "cities_dataframe = ...\n",
        "\n",
        "cities_dataframe"
      ]
    },
    {
      "cell_type": "markdown",
      "metadata": {
        "id": "ToTPR-xjSIl6"
      },
      "source": [
        "## Importing data"
      ]
    },
    {
      "cell_type": "code",
      "execution_count": null,
      "metadata": {
        "colab": {
          "base_uri": "https://localhost:8080/",
          "height": 247
        },
        "id": "r_RTQCSKVdlc",
        "outputId": "a7dc58e9-7987-4345-e89f-fada55933fe0"
      },
      "outputs": [],
      "source": [
        "dataset_url = \"https://raw.githubusercontent.com/MBAZA-NLP/nlp-training/main/data/kinnews_0_500.csv\"\n",
        "\n",
        "# Read the CSV file from the URL and store it in the variable \"data\"\n",
        "data = ...\n",
        "\n",
        "data"
      ]
    },
    {
      "cell_type": "markdown",
      "metadata": {
        "id": "YXSUsmY8SMNH"
      },
      "source": [
        "## Understanding your data"
      ]
    },
    {
      "cell_type": "code",
      "execution_count": null,
      "metadata": {
        "id": "rxlKOfo9SSFv"
      },
      "outputs": [],
      "source": [
        "# Show the shape of the data"
      ]
    },
    {
      "cell_type": "code",
      "execution_count": null,
      "metadata": {},
      "outputs": [],
      "source": [
        "# Show the first 17 rows of your data"
      ]
    },
    {
      "cell_type": "markdown",
      "metadata": {
        "id": "IIw3uL5fSks0"
      },
      "source": [
        "## Filtering your data"
      ]
    },
    {
      "cell_type": "code",
      "execution_count": null,
      "metadata": {
        "id": "bszR8vXQSujn"
      },
      "outputs": [],
      "source": [
        "# Select only the \"title\" column\n"
      ]
    },
    {
      "cell_type": "code",
      "execution_count": null,
      "metadata": {},
      "outputs": [],
      "source": [
        "# Select rows 100-120 in the \"content\" column\n"
      ]
    },
    {
      "cell_type": "markdown",
      "metadata": {
        "id": "UB0ihrHqSRas"
      },
      "source": [
        "## Combining data from multiple sources"
      ]
    },
    {
      "cell_type": "code",
      "execution_count": null,
      "metadata": {},
      "outputs": [],
      "source": [
        "# Read the other dataset\n",
        "dataset2_url = \"https://raw.githubusercontent.com/MBAZA-NLP/nlp-training/main/data/kinnews_1000_1500.csv\"\n",
        "\n",
        "data2 = ..."
      ]
    },
    {
      "cell_type": "code",
      "execution_count": null,
      "metadata": {
        "id": "qfy2ZLtwSkeB"
      },
      "outputs": [],
      "source": [
        "# Make (concatenate) one big DataFrame out of both datasets\n",
        "all_data = ...\n",
        "\n",
        "all_data"
      ]
    },
    {
      "cell_type": "code",
      "execution_count": null,
      "metadata": {},
      "outputs": [],
      "source": [
        "# Merge the text labels\n",
        "text_labels_file_url = \"https://raw.githubusercontent.com/MBAZA-NLP/nlp-training/main/data/labels.csv\"\n",
        "text_labels = ...\n",
        "\n",
        "full_data_with_labels = ...\n",
        "full_data_with_labels"
      ]
    },
    {
      "cell_type": "markdown",
      "metadata": {},
      "source": [
        "## Basic DataFrame operations"
      ]
    },
    {
      "cell_type": "code",
      "execution_count": null,
      "metadata": {},
      "outputs": [],
      "source": [
        "# Add a column indicating the language of the text\n"
      ]
    },
    {
      "cell_type": "code",
      "execution_count": null,
      "metadata": {},
      "outputs": [],
      "source": [
        "# Delete the column you have just added"
      ]
    },
    {
      "cell_type": "code",
      "execution_count": null,
      "metadata": {},
      "outputs": [],
      "source": [
        "# Compute the mean length of the title and content columns (in characters)\n",
        "title_mean_length = ...\n",
        "content_mean_length = ...\n",
        "\n",
        "print(f'The average length of the title in the data set is {title_mean_length} characters and of the content {content_mean_length} characters.')"
      ]
    },
    {
      "cell_type": "code",
      "execution_count": null,
      "metadata": {},
      "outputs": [],
      "source": [
        "# Select rows where the length of the title is below 25 characters\n"
      ]
    },
    {
      "cell_type": "code",
      "execution_count": null,
      "metadata": {},
      "outputs": [],
      "source": [
        "# Sort the data according to the length of the content"
      ]
    },
    {
      "cell_type": "code",
      "execution_count": null,
      "metadata": {},
      "outputs": [],
      "source": [
        "# Remove duplicates (defined as rows with the same title) from the data and check how many rows remain \n"
      ]
    }
  ],
  "metadata": {
    "colab": {
      "name": "Basic Data Wrangling with Pandas",
      "provenance": []
    },
    "kernelspec": {
      "display_name": "Python 3.9.7 64-bit",
      "language": "python",
      "name": "python3"
    },
    "language_info": {
      "codemirror_mode": {
        "name": "ipython",
        "version": 3
      },
      "file_extension": ".py",
      "mimetype": "text/x-python",
      "name": "python",
      "nbconvert_exporter": "python",
      "pygments_lexer": "ipython3",
      "version": "3.9.7"
    },
    "vscode": {
      "interpreter": {
        "hash": "f08154012ddadd8e950e6e9e035c7a7b32c136e7647e9b7c77e02eb723a8bedb"
      }
    }
  },
  "nbformat": 4,
  "nbformat_minor": 0
}
