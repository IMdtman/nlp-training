{
 "cells": [
  {
   "cell_type": "markdown",
   "metadata": {},
   "source": [
    "# NLP Modelling and Algorithms - Solutions"
   ]
  },
  {
   "cell_type": "code",
   "execution_count": null,
   "metadata": {},
   "outputs": [],
   "source": [
    "# Import text data and libraries\n",
    "import pandas as pd\n",
    "\n",
    "dataset_url = ''\n",
    "\n",
    "data = ...\n",
    "\n",
    "data"
   ]
  },
  {
   "cell_type": "markdown",
   "metadata": {},
   "source": [
    "## Making text machine-readable\n",
    "There are many ways. Here: One of the simplest ones: TF-IDF\n",
    "A more advanced method are embeddings."
   ]
  },
  {
   "cell_type": "code",
   "execution_count": null,
   "metadata": {},
   "outputs": [],
   "source": [
    "from sklearn.feature_extraction.text import TfidfVectorizer\n",
    "\n",
    "# Separate the data (to use for prediction) and label (to predict) columns\n",
    "X = ...     # the data features\n",
    "y = ...     # the labels\n",
    "\n",
    "# Transform X using TF-IDF\n",
    "X = ..."
   ]
  },
  {
   "cell_type": "markdown",
   "metadata": {},
   "source": [
    "## Training a Text Classifier"
   ]
  },
  {
   "cell_type": "code",
   "execution_count": null,
   "metadata": {},
   "outputs": [],
   "source": [
    "# Split the data into train and test data\n",
    "from sklearn.model_selection import train_test_split\n",
    "\n",
    "X_train, X_test, y_train, y_test = train_test_split(X, y, test_size=0.3, random_state=42)"
   ]
  },
  {
   "cell_type": "code",
   "execution_count": null,
   "metadata": {},
   "outputs": [],
   "source": [
    "from sklearn.neural_network import MLPClassifier\n",
    "\n",
    "# Create the classifier object\n",
    "classifier = ...\n",
    "\n",
    "# Train the classifier on the training data X_train, y_train\n",
    "\n",
    "\n",
    "# Do predictions on the test data. Create a DataFrame with three columns: Text, true label, and predicted label\n",
    "y_pred = ...\n",
    "predictions_dataframe = ...\n",
    "\n",
    "predictions_dataframe"
   ]
  },
  {
   "cell_type": "code",
   "execution_count": null,
   "metadata": {},
   "outputs": [],
   "source": [
    "# Evaluate you model using metrics\n",
    "from sklearn.metrics import accuracy_score, classification_report\n",
    "\n",
    "classification_report = classification_report(y_test, y_pred)\n",
    "\n",
    "print('\\n Accuracy: ', accuracy_score(y_test, y_pred))\n",
    "print('\\nClassification Report')\n",
    "print('======================================================')\n",
    "print('\\n', classification_report)"
   ]
  }
 ],
 "metadata": {
  "language_info": {
   "name": "python"
  },
  "orig_nbformat": 4
 },
 "nbformat": 4,
 "nbformat_minor": 2
}
