{
 "cells": [
  {
   "cell_type": "markdown",
   "metadata": {},
   "source": [
    "# NLP Modelling and Algorithms - Solutions\n",
    "This notebook guides you through basic modelling of text data and using Machine Learning algorithms to classify Kinyarwanda news articles into one of 14 categories."
   ]
  },
  {
   "cell_type": "code",
   "execution_count": null,
   "metadata": {},
   "outputs": [],
   "source": [
    "SEED = 1   # random state/seed for reproducibility"
   ]
  },
  {
   "cell_type": "markdown",
   "metadata": {},
   "source": [
    "## Prepare data"
   ]
  },
  {
   "cell_type": "markdown",
   "metadata": {},
   "source": [
    "### Download and combine data"
   ]
  },
  {
   "cell_type": "code",
   "execution_count": null,
   "metadata": {},
   "outputs": [],
   "source": [
    "# Import text data and libraries\n",
    "import pandas as pd\n",
    "\n",
    "data1_url = \"https://raw.githubusercontent.com/MBAZA-NLP/nlp-training/main/data/kinnews_0_500.csv\"\n",
    "data2_url = \"https://raw.githubusercontent.com/MBAZA-NLP/nlp-training/main/data/kinnews_1000_1500.csv\"\n",
    "\n",
    "data1 = ...\n",
    "data2 = ...\n",
    "\n",
    "# Combine data1 and data2 into one DataFrame\n",
    "data = ...\n",
    "\n",
    "data"
   ]
  },
  {
   "cell_type": "markdown",
   "metadata": {},
   "source": [
    "### Add category names (easier to interpret than the numeric labels)"
   ]
  },
  {
   "cell_type": "code",
   "execution_count": null,
   "metadata": {},
   "outputs": [],
   "source": [
    "# Download the category names\n",
    "categories_url = \"https://raw.githubusercontent.com/MBAZA-NLP/nlp-training/main/data/labels.csv\"\n",
    "categories = ...\n",
    "\n",
    "# Add the correct category name to each row (there are several ways to do this)\n",
    "...\n",
    "\n",
    "data"
   ]
  },
  {
   "cell_type": "markdown",
   "metadata": {},
   "source": [
    "### Separate the data (to use for prediction) and label (to predict) columns\n",
    "Note: In the beginning, we will only use the article 'content' for classification. Later, you can also play around with using the title, or even both.  "
   ]
  },
  {
   "cell_type": "code",
   "execution_count": null,
   "metadata": {},
   "outputs": [],
   "source": [
    "X = ...     # data to use for prediction\n",
    "y = ...     # label to predict"
   ]
  },
  {
   "cell_type": "markdown",
   "metadata": {},
   "source": [
    "## Making text machine-readable (TF-IDF)\n",
    "There are several ways to turn text into something that a Machine Learning algorithm can handle. Here, we will be using one of the basic methods: Term-Frequency Inverse Document Frequency, of TF-IDF for short.\n",
    "\n",
    "Look at the resulting TF-IDF matrix:\n",
    "- What do rows refer to? What about column?\n",
    "- What to the cell values mean?\n",
    "- How large is the matrix? Why does it have this number of rows and columns?\n",
    "- Do the column names make sense?"
   ]
  },
  {
   "cell_type": "code",
   "execution_count": null,
   "metadata": {},
   "outputs": [],
   "source": [
    "from sklearn.feature_extraction.text import TfidfVectorizer\n",
    "\n",
    "# Transform X using TF-IDF (do not forget to call toarray())\n",
    "vectorizer = TfidfVectorizer()\n",
    "X = ...\n",
    "\n",
    "# Visualize the TF-IDF matrix\n",
    "pd.DataFrame(X, columns=vectorizer.get_feature_names())"
   ]
  },
  {
   "cell_type": "markdown",
   "metadata": {},
   "source": [
    "## Training a Text Classifier\n",
    "In order to be able to evaluate your model, you have to split the data into training and test datasets.\n",
    "\n",
    "Then, train your model using the training data (article content ``X_train`` and article category ``y_train``)."
   ]
  },
  {
   "cell_type": "code",
   "execution_count": null,
   "metadata": {},
   "outputs": [],
   "source": [
    "# Split the data into train and test data\n",
    "from sklearn.model_selection import train_test_split\n",
    "\n",
    "# Remember considering the random state\n",
    "X_train, X_test, y_train, y_test = ...\n",
    "\n",
    "print(f'X_train shape: {X_train.shape}\\nX_test shape {X_test.shape}\\ny_train shape {y_train.shape}\\ny_test shape {y_test.shape}')"
   ]
  },
  {
   "cell_type": "code",
   "execution_count": null,
   "metadata": {},
   "outputs": [],
   "source": [
    "from time import time\n",
    "from sklearn.neural_network import MLPClassifier\n",
    "\n",
    "before = time()\n",
    "\n",
    "# Create the classifier object (remember considering the random state)\n",
    "classifier = ...\n",
    "\n",
    "# Train the classifier on the training data X_train, y_train\n",
    "...\n",
    "\n",
    "print(f'Training took {time() - before} seconds.')"
   ]
  },
  {
   "cell_type": "markdown",
   "metadata": {},
   "source": [
    "## Evaluation\n",
    "For evaluation, first have the model do predictions on your test data.\n",
    "Then have a look at the evaluation metrics.\n",
    "- What is the overall accuracy?\n",
    "- Is the accuracy high enough? What should the target accuracy be?\n",
    "- Which categories are predicted well? Which ones are not? What could be the reason?\n",
    "- Where do precision and recall differ sharply? What could be the reason?"
   ]
  },
  {
   "cell_type": "code",
   "execution_count": null,
   "metadata": {},
   "outputs": [],
   "source": [
    "# Do predictions on the test data. Create a DataFrame with three columns: Text, true label, and predicted label\n",
    "before = time()\n",
    "\n",
    "predictions = ...\n",
    "\n",
    "print(f'Inference/predictions took {time() - before} seconds.')\n",
    "\n",
    "pd.DataFrame(predictions, columns=['Predicted label'])"
   ]
  },
  {
   "cell_type": "code",
   "execution_count": null,
   "metadata": {},
   "outputs": [],
   "source": [
    "# Evaluate your model using various metrics\n",
    "from sklearn.metrics import classification_report\n",
    "\n",
    "print(classification_report(y_true=..., y_pred=...))"
   ]
  },
  {
   "cell_type": "markdown",
   "metadata": {},
   "source": [
    "## Improving your model"
   ]
  },
  {
   "cell_type": "markdown",
   "metadata": {},
   "source": [
    "### Hyperparameter tuning\n",
    "As a first step to improve your model's performance, you can try to change (\"tune\") the hyperparameters used for training.\n",
    "\n",
    "The next cell includes some common hyperparameters. Refer to the scikit-learn documentation on the ``MLPClassifier`` for more parameters and how to use them: https://scikit-learn.org/stable/modules/generated/sklearn.neural_network.MLPClassifier.html"
   ]
  },
  {
   "cell_type": "code",
   "execution_count": null,
   "metadata": {},
   "outputs": [],
   "source": [
    "# Some hyperparameters you may want to play around with. They are set to their default values.\n",
    "# Refer to the documentation to see other hyperparameters.\n",
    "HIDDEN_LAYER_SIZES = (100)  # has to be a tuple\n",
    "MAX_ITERATIONS = 200\n",
    "LEARNING_RATE = 0.001\n",
    "\n",
    "\n",
    "new_classifier = MLPClassifier(random_state=SEED,\n",
    "                               hidden_layer_sizes=HIDDEN_LAYER_SIZES,\n",
    "                               max_iter=MAX_ITERATIONS,\n",
    "                               learning_rate_init=LEARNING_RATE)\n",
    "\n",
    "before = time()\n",
    "\n",
    "# Train the new classifier\n",
    "...\n",
    "\n",
    "# Predict on the test data\n",
    "new_predictions = ...\n",
    "\n",
    "print(f'Training and inference took {time() - before} seconds.')\n",
    "print(classification_report(y_true=..., y_pred=...))"
   ]
  },
  {
   "cell_type": "markdown",
   "metadata": {},
   "source": [
    "### Optional 1 - Try other ML algorithms\n",
    "Try using other classification algorithms. Do they improve the metrics?\n",
    "\n",
    "See e. g. here for some other classifiers that scikit-learn supports: https://scikit-learn.org/stable/auto_examples/classification/plot_classifier_comparison.html"
   ]
  },
  {
   "cell_type": "code",
   "execution_count": null,
   "metadata": {},
   "outputs": [],
   "source": [
    "..."
   ]
  },
  {
   "cell_type": "markdown",
   "metadata": {},
   "source": [
    "### Optional 2 - Try using more data\n",
    "Use more data and see if the model performs better. You can get more data here:\n",
    "\n",
    "- Complete data of Kinyarwanda news: https://drive.google.com/drive/folders/1zxn0hgrOLlUsK5V0c7l71eAj1t2jiyox?usp=sharing\n",
    "- Complete data of Kirundi news: https://drive.google.com/uc?export=download&id=1-53VQFOHqBeoX2JiN01X1Sxgfh78ckru\n",
    "\n",
    "Does using Kirundi news articles improve or worsen the model's performance? What does that mean?"
   ]
  },
  {
   "cell_type": "code",
   "execution_count": null,
   "metadata": {},
   "outputs": [],
   "source": [
    "..."
   ]
  }
 ],
 "metadata": {
  "kernelspec": {
   "display_name": "Python 3.9.7 64-bit",
   "language": "python",
   "name": "python3"
  },
  "language_info": {
   "codemirror_mode": {
    "name": "ipython",
    "version": 3
   },
   "file_extension": ".py",
   "mimetype": "text/x-python",
   "name": "python",
   "nbconvert_exporter": "python",
   "pygments_lexer": "ipython3",
   "version": "3.9.7"
  },
  "orig_nbformat": 4,
  "vscode": {
   "interpreter": {
    "hash": "f08154012ddadd8e950e6e9e035c7a7b32c136e7647e9b7c77e02eb723a8bedb"
   }
  }
 },
 "nbformat": 4,
 "nbformat_minor": 2
}
